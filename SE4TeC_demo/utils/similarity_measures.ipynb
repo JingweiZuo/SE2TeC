{
 "cells": [
  {
   "cell_type": "code",
   "execution_count": 6,
   "metadata": {
    "collapsed": true
   },
   "outputs": [],
   "source": [
    "import numpy as np\n",
    "import line_profiler\n",
    "\n",
    "def sliding_window(sequence, win_size, step=1):\n",
    "    # Verify the inputs\n",
    "    try:\n",
    "        it = iter(sequence)\n",
    "    except TypeError:\n",
    "        raise Exception(\"**ERROR** sequence must be iterable.\")\n",
    "    if not ((type(win_size) == type(0)) and (type(step) == type(0))):\n",
    "        raise Exception(\"**ERROR** type(winSize) and type(step) must be int.\")\n",
    "    if step > win_size:\n",
    "        raise Exception(\"**ERROR** step must not be larger than winSize.\")\n",
    "    if win_size > len(sequence):\n",
    "        raise Exception(\"**ERROR** winSize must not be larger than sequence length.\")\n",
    "\n",
    "    # Pre-compute number of chunks to emit\n",
    "    num_chunks = ((len(sequence) - win_size) / step) + 1\n",
    "\n",
    "    # Do the work\n",
    "    for i in range(0, int(num_chunks * step), step):\n",
    "        yield sequence[i:i + win_size]\n",
    "        \n",
    "def calculate_distances(timeseries, subsequence, distance_measure):\n",
    "    if distance_measure == \"mass_v1\" :\n",
    "        return mass_v1(subsequence, timeseries)\n",
    "    elif distance_measure == \"mass_v2\" :\n",
    "        return mass_v2(timeseries, subsequence)\n",
    "    elif distance_measure == \"brute\":\n",
    "        return euclidean_distance_unequal_lengths(timeseries, subsequence)\n",
    "\n",
    "def euclidean_distance(t1, t2):\n",
    "    return np.sqrt(sum((t1 - t2) ** 2))\n",
    "\n",
    "def euclidean_distance_unequal_lengths(t, s):##O(m)\n",
    "    ## return a array of distance between 'shapelet' and every slices of 'timeseries'\n",
    "    distances = np.array([euclidean_distance(np.array(s1), s) for s1 in sliding_window(t, len(s))])\n",
    "    return distances\n",
    "\n",
    "def dot_products_1(q, t):\n",
    "    m, n = len(q), len(t)\n",
    "    t_a = np.concatenate([t, np.zeros(n)])\n",
    "    # reverse the Query\n",
    "    q_r = q[::-1]\n",
    "    q_ra = np.concatenate([q_r, np.zeros(2 * n - m)])\n",
    "    q_raf = np.fft.fft(q_ra)\n",
    "    t_af = np.fft.fft(t_a)\n",
    "    qt = np.fft.ifft(q_raf * t_af)\n",
    "    return qt\n",
    "\n",
    "def dot_products_2(q, t):\n",
    "    # concatenante n-m zeros for Query\n",
    "    m, n = len(q), len(t)\n",
    "    # reverse the Query\n",
    "    q_r = q[::-1]\n",
    "    q_ra = np.concatenate([q_r, np.zeros(n - m)])\n",
    "    q_raf = np.fft.fft(q_ra)\n",
    "    t_af = np.fft.fft(t)\n",
    "    qt = np.fft.ifft(q_raf * t_af)\n",
    "    return qt\n",
    "\n",
    "def mass_v1(q, t):\n",
    "    m, n = len(q), len(t)\n",
    "    # Z-normalization of Query\n",
    "    q = (q-np.mean(q)) / np.std(q)\n",
    "    qt = dot_products_1(q, t)\n",
    "    #compute the mean and standard deviation of Time Series\n",
    "    sum_q = np.sum(q)\n",
    "    sum_q2 = np.sum(np.power(q,2))\n",
    "\n",
    "    #cache a cumulative sum of values\n",
    "    cum_sum_t = np.cumsum(t)\n",
    "    cum_sum_t2 = np.cumsum(np.power(t,2))\n",
    "\n",
    "    #sum of x and x square for [0, n-m] subsequences of length m\n",
    "    #sumt2 = cum_sum_t2[m-1:] - cum_sum_t2[:- m+1]\n",
    "    #sumt = cum_sum_t[m-1:] - cum_sum_t[:- m+1]\n",
    "    sumt2 = cum_sum_t2[m:] - cum_sum_t2[: n-m]\n",
    "    sumt = cum_sum_t[m:] - cum_sum_t[: n- m]\n",
    "    meant = sumt / m\n",
    "    #standard deviation of every subsequence of length m\n",
    "    sigmat2 = (sumt2 / m) - (np.power(meant,2))\n",
    "    sigmat = np.sqrt(sigmat2)\n",
    "\n",
    "    dist = (sumt2 - 2 * sumt * meant + m * (np.power(meant,2))) / sigmat2 - 2 * (qt[m:n] - sum_q * meant) / sigmat + sum_q2\n",
    "    dist = np.sqrt(dist)\n",
    "    #distance here is a complex number, need to return its amplitude/absolute value\n",
    "    #return a vector with size of n-m+1\n",
    "    return np.abs(dist)\n",
    "\n",
    "#@profile\n",
    "def mass_v2(x, y):\n",
    "    #x is the data, y is the query\n",
    "    n, m = len(x), len(y)\n",
    "\n",
    "    #%compute y stats -- O(n)\n",
    "    meany = np.mean(y)\n",
    "\n",
    "    sigmay = np.std(y)\n",
    "    #compute x stats -- O(n)\n",
    "    #compute the average of the first m elements in 'x'\n",
    "\n",
    "\n",
    "    #compute the moving average and standard deviation of Time Series\n",
    "    meanx = running_mean(x, m)\n",
    "    sigmax = running_std(x, m)\n",
    "\n",
    "    #The main trick of getting dot products in O(n log n) time\n",
    "    z = dot_products_2(y, x)\n",
    "    dist = 2 * (m - (z[m-1:n] - m * meanx[m-1:n] * meany) / (sigmax[m-1:n] * sigmay))\n",
    "    dist = np.sqrt(dist)\n",
    "    #distance here is a complex number, need to return its amplitude/absolute value\n",
    "    #return a vector with size of n-m+1\n",
    "    return np.abs(dist)\n",
    "\n",
    "def running_mean(x, N):\n",
    "    cumsum = np.cumsum(np.insert(x, 0, np.zeros(N)))\n",
    "    cum_v = cumsum[N:] - cumsum[:-N]\n",
    "    cum_v1 = np.divide(cum_v[:N],range(1,N+1))\n",
    "    cum_v2 = cum_v[N:]/ float(N)\n",
    "    return np.concatenate([cum_v1,cum_v2])\n",
    "\n",
    "def running_std(x, N):\n",
    "    x2 = np.power(x, 2)\n",
    "    cumsum2 = np.cumsum(np.insert(x2, 0, np.zeros(N)))\n",
    "    cum_v = cumsum2[N:] - cumsum2[:-N]\n",
    "    cum_v1 = np.divide(cum_v[:N],range(1,N+1))\n",
    "    cum_v2 = cum_v[N:]/ float(N)\n",
    "    cumstd2 = np.concatenate([cum_v1,cum_v2])\n",
    "    return (cumstd2 - running_mean(x, N) ** 2) ** 0.5\n",
    "\n",
    "#@profile\n",
    "def mass_v3(x, y, meanx, meany, sigmax, sigmay, sigmaQplus):\n",
    "    #x is the data, y is the query\n",
    "    n, m = len(x), len(y)\n",
    "\n",
    "    #The main trick of getting dot products in O(n log n) time\n",
    "    z = dot_products_2(y, x)\n",
    "    #dist = 2 * m * (1 - (z[m-1:n]/m - meanx[m-1:n] * meany) / (sigmax[m-1:n] * sigmay))\n",
    "    #dist = np.sqrt(dist)\n",
    "    #distance here is a complex number, need to return its amplitude/absolute value\n",
    "    #return a vector with size of n-m+1\n",
    "\n",
    "    sigmaxy = sigmax * sigmay\n",
    "    q_ij = (z[m-1:n] / m - meanx * meany) / sigmaxy\n",
    "    dist = np.sqrt(2 * m * (1 - q_ij))\n",
    "\n",
    "    # Q is a subsequence, T is the entire timeseries, meanT/sigmaT are lists of elements\n",
    "    coeff = sigmay / sigmaQplus\n",
    "    # compute the LB profile: q_ij\n",
    "    # q_ij[q_ij <= 0] = (m ** 0.5) * coeff\n",
    "    # q_ij[q_ij > 0] = ((m * (1 - q_ij ** 2)) ** 0.5) * coeff\n",
    "    LB = np.abs(np.where(q_ij <= 0, (m ** 0.5) * coeff, np.where(q_ij > 0, ((m * (1 - q_ij ** 2)) ** 0.5) * coeff, q_ij)))\n",
    "    qt = {idx: value for idx, value in enumerate(z[m-1:n])}\n",
    "\n",
    "    lb_list = [(idx, dist) for idx, dist in enumerate(LB)]\n",
    "    lb_list = sorted(lb_list, key=lambda d: d[1])\n",
    "    return np.abs(dist), qt, lb_list #q_ij here is the LB profile\n",
    "\n",
    "#@profile\n",
    "def compute1Dist(meanQ, meanT, sigmaQ, sigmaT, QT, m):\n",
    "    if sigmaT <= 0.0001:\n",
    "        dist = 10000\n",
    "    else:\n",
    "        dist = 2 * (m - (QT - m * meanQ * meanT) / (sigmaQ * sigmaT))\n",
    "    return abs(dist*0.5)\n",
    "\n",
    "def linearComputeLB(LB, sigmaQ, sigmaQplus):\n",
    "    #LB: [(rawIndex, value)]\n",
    "    LB_new = [(rawIndex, value* sigmaQ / sigmaQplus) for (rawIndex,value) in LB]\n",
    "    return LB_new\n",
    "\n",
    "#@profile\n",
    "def computeLB(QT, m, meanQ, meant, sigmaQ, sigmat, sigmaQplus):\n",
    "    # Q is a subsequence, T is an entire timeseries\n",
    "    qt = np.array([QT[i] for i in sorted(QT)])\n",
    "    lenQT = len(qt)\n",
    "    #print(\"length of QT is \", str(lenQT), \"length of meant is \", str(len(meant)))\n",
    "    # problem of LB, as when sigma<0.0001, skip\n",
    "    #q_ij = (qt/m - meanQ*meant[:lenQT]) / sigmaQ * sigmat[:lenQT]\n",
    "    q_ij = (qt / m - meanQ * meant) / sigmaQ * sigmat\n",
    "    coeff= sigmaQ / sigmaQplus\n",
    "    q_ij = np.abs(np.where(q_ij.real <= 0, (m ** 0.5) * coeff, np.where(q_ij.real > 0, ((m * (1 - q_ij.real ** 2)) ** 0.5) * coeff, q_ij)))\n",
    "    lb_list = [(idx, dist) for idx, dist in enumerate(q_ij)]\n",
    "    lb_list = sorted(lb_list, key=lambda d: d[1])\n",
    "    return lb_list\n",
    "\n",
    "#@profile\n",
    "def computeMeanSigma(dataset, m):\n",
    "    mean = {}\n",
    "    sigma = {}\n",
    "    for ts in dataset.values():\n",
    "        TS = ts.timeseries\n",
    "        n = len(TS)\n",
    "        # compute the moving average and standard deviation of Time Series\n",
    "        mean_ts = running_mean(TS, n)\n",
    "        sigma_ts = running_std(TS, n)\n",
    "        mean[ts.name] = mean_ts[m - 1:n]\n",
    "        sigma[ts.name] = sigma_ts[m - 1:n]\n",
    "    return mean, sigma\n",
    "\n",
    "#@profile\n",
    "# input: mean(m), sigma(m), mplus(m+1)\n",
    "# output: mean_new(m+1), sigma_new(m+1)\n",
    "def updateMeanSigma(dataset, mean, sigma, mplus):\n",
    "    mean_new = {}\n",
    "    sigma_new = {}\n",
    "    for ts in dataset.values():\n",
    "        TS = ts.timeseries\n",
    "        n = len(TS)\n",
    "        new_elem = TS[mplus-1:]\n",
    "        mean_temp = mean[ts.name][:n-mplus+1]\n",
    "        mean_new[ts.name] = (mean_temp * (mplus-1) + new_elem) / mplus\n",
    "\n",
    "        sigma_temp = sigma[ts.name][:n-mplus+1]\n",
    "        ss_old = (mplus - 1) * (sigma_temp ** 2 + mean_temp ** 2)\n",
    "        ss_new = ss_old + new_elem ** 2\n",
    "        sigma_new[ts.name] = ((ss_new / mplus) - mean_new[ts.name] ** 2) ** 0.5\n",
    "\n",
    "    return mean_new, sigma_new"
   ]
  },
  {
   "cell_type": "code",
   "execution_count": 7,
   "metadata": {},
   "outputs": [
    {
     "name": "stdout",
     "output_type": "stream",
     "text": [
      "false\n"
     ]
    },
    {
     "data": {
      "image/png": "[encoded data removed]",
      "text/plain": [
       "<Figure size 480x360 with 3 Axes>"
      ]
     },
     "metadata": {},
     "output_type": "display_data"
    }
   ],
   "source": [
    "t = [-0.77065,-1.2791,-0.26209,1.5178,2.2806,1.0092,-0.51635,-1.5334,-0.77065,1.0092,2.5348,2.7891,1.772,-0.26209,-1.5334,-2.0419,-1.5334,-0.51635,-0.26209,-0.26209,-0.51635,-0.51635,-0.26209,-0.26209,-0.26209,-0.0078248,0.24645,0.24645,0.24645,0.24645,-0.0078248,-0.26209,-0.51635,-0.26209,-0.0078248,0.24645,0.24645,-0.0078248,-0.26209,-0.0078248,-0.0078248,-0.26209,-0.77065,-0.77065,-0.26209,-0.26209,-0.77065,0.50071,1.2635,2.2806,2.2806,1.2635,0.24645,-0.51635,-1.2791,-1.2791,-0.77065,-0.26209,-0.0078248,-0.0078248,-0.51635,-0.26209,-0.0078248,-0.0078248,0.50071]\n",
    "#q = [1.5178,2.2806,1.0092,-0.51635,-1.5334,-0.77065,1.0092,2.5348,2.7891,1.772]\n",
    "q = [-0.26209,1.5178,2.2806,1.0092,-0.51635,-1.5334]\n",
    "dp_v1 = calculate_distances(t,q,\"mass_v1\")\n",
    "#dp_v1 = 4.860921066932171,2.767395479432407,4.323144550074336e-08,2.845919417390394,4.965208898527445,6.068348331739017,6.225876340222012,5.618144992911787,4.378046161030111,3.189943743185972,2.700219913732508,3.20647934699347,4.439659937077373,5.149078211549052,4.994000199586344,4.34045712206409,3.020209165912931,2.919806997316525,3.361116993477324,3.812778146056428,4.354838182131623,5.334910437249482,5.902777114881272,6.047195684090057,5.550772582663577,4.274797168126932,2.418187686685143,0.948731495667246,3.173212722864377,5.020515437402084,5.832220821449746,5.586756512750778,5.049911991082823,5.05757926442138,5.269531089672382,5.060538566425972,4.334251379469987,3.450102547808075,3.16127922345593,3.150506702499492,2.971960268462285,3.084410436456894,4.037897155279941,5.358710776246317,6.106687895345971,6.077285847866007,5.58084592006326,4.665437291683676,3.697759847581922,2.884237819541795,2.439148583679835,3.492000787443618,4.896276354716258,5.161261835072533,4.580118176481192\n",
    "\n",
    "dp_v2 = calculate_distances(t,q,\"mass_v2\")\n",
    "dp_ed = calculate_distances(t,q,\"brute\")\n",
    "if np.array_equal(dp_v1, dp_ed):\n",
    "    print(\"true\")\n",
    "else:\n",
    "    print(\"false\")\n",
    "    \n",
    "from matplotlib import pyplot as plt\n",
    "x_v1 = range(0, len(dp_v1))\n",
    "x_v2 = range(0, len(dp_v2))\n",
    "x_v3 = range(0, len(dp_ed))\n",
    "\n",
    "\n",
    "figure = plt.figure(figsize=(8,6), dpi=60)\n",
    "ax1 = figure.add_subplot(311)\n",
    "ax2 = figure.add_subplot(312, sharex = ax1)\n",
    "ax3 = figure.add_subplot(313, sharex = ax1)\n",
    "ax1.plot(x_v1, dp_v1)\n",
    "ax2.plot(x_v2, dp_v2)\n",
    "ax3.plot(x_v3, dp_ed)\n",
    "plt.show()"
   ]
  },
  {
   "cell_type": "code",
   "execution_count": 84,
   "metadata": {},
   "outputs": [
    {
     "data": {
      "text/plain": [
       "array([ 0,  1,  2,  3,  4,  5,  6,  7,  8,  9, 10, 11, 12, 13, 14, 15, 16,\n       17, 18, 19])"
      ]
     },
     "execution_count": 84,
     "metadata": {},
     "output_type": "execute_result"
    }
   ],
   "source": [
    "np.arange(20)"
   ]
  },
  {
   "cell_type": "code",
   "execution_count": 35,
   "metadata": {},
   "outputs": [
    {
     "data": {
      "text/plain": [
       "array([ 1.,  2.,  3.,  4.,  5.,  6.,  7.,  8.,  9., 10., 11., 12., 13.,\n       14., 15., 16., 17., 18.])"
      ]
     },
     "execution_count": 35,
     "metadata": {},
     "output_type": "execute_result"
    }
   ],
   "source": [
    "def moving_average(a, n=3) :\n",
    "    ret = np.cumsum(a, dtype=float)\n",
    "    ret[n:] = ret[n:] - ret[:-n]\n",
    "    return ret[n - 1:] / n\n",
    "a= np.arange(20)\n",
    "moving_average(a,n=3)"
   ]
  },
  {
   "cell_type": "code",
   "execution_count": 50,
   "metadata": {},
   "outputs": [
    {
     "data": {
      "text/plain": [
       "array([ 0. ,  0.5,  1. ,  2. ,  3. ,  4. ,  5. ,  6. ,  7. ,  8. ,  9. ,\n       10. , 11. , 12. , 13. , 14. , 15. , 16. , 17. , 18. ])"
      ]
     },
     "execution_count": 50,
     "metadata": {},
     "output_type": "execute_result"
    }
   ],
   "source": [
    "def running_mean(x, N):\n",
    "    cumsum = np.cumsum(np.insert(x, 0, np.zeros(N)))\n",
    "    cum_v = cumsum[N:] - cumsum[:-N]\n",
    "    cum_v1 = np.divide(cum_v[:N],range(1,N+1))\n",
    "    cum_v2 = cum_v[N:]/ float(N)\n",
    "    return np.concatenate([cum_v1,cum_v2])\n",
    "running_mean(a,3)"
   ]
  },
  {
   "cell_type": "code",
   "execution_count": 51,
   "metadata": {},
   "outputs": [
    {
     "data": {
      "text/plain": [
       "9"
      ]
     },
     "execution_count": 51,
     "metadata": {},
     "output_type": "execute_result"
    }
   ],
   "source": [
    "len(range(1,10))"
   ]
  },
  {
   "cell_type": "code",
   "execution_count": 54,
   "metadata": {},
   "outputs": [
    {
     "name": "stdout",
     "output_type": "stream",
     "text": [
      "[16.         40.         38.66666667 33.66666667 13.66666667  4.66666667\n  4.66666667  6.33333333  8.66666667 16.66666667]\n[ 4.          6.          6.          4.33333333  1.         -2.\n -2.         -0.33333333  2.          4.        ]\n"
     ]
    },
    {
     "data": {
      "text/plain": [
       "array([0.        , 2.        , 1.63299316, 3.8586123 , 3.55902608,\n       0.81649658, 0.81649658, 2.49443826, 2.1602469 , 0.81649658])"
      ]
     },
     "execution_count": 54,
     "metadata": {},
     "output_type": "execute_result"
    }
   ],
   "source": [
    "def running_std1(x, N):\n",
    "    x2 = np.power(x, 2)\n",
    "    cumsum2 = np.cumsum(np.insert(x2, 0, np.zeros(N)))\n",
    "    cum_v = cumsum2[N:] - cumsum2[:-N]\n",
    "    cum_v1 = np.divide(cum_v[:N],range(1,N+1))\n",
    "    cum_v2 = cum_v[N:]/ float(N)\n",
    "    cumstd2 = np.concatenate([cum_v1,cum_v2])\n",
    "    print(cumstd2)\n",
    "    print(running_mean(x, N))\n",
    "    return (cumstd2 - running_mean(x, N) ** 2) ** 0.5\n",
    "A = [4, 8, 6, -1, -2, -3, -1, 3, 4, 5]\n",
    "\n",
    "running_std1(A, 3)\n"
   ]
  },
  {
   "cell_type": "code",
   "execution_count": 64,
   "metadata": {},
   "outputs": [
    {
     "data": {
      "text/plain": [
       "array([], shape=(0, 5), dtype=float64)"
      ]
     },
     "execution_count": 64,
     "metadata": {},
     "output_type": "execute_result"
    }
   ],
   "source": [
    ""
   ]
  },
  {
   "cell_type": "code",
   "execution_count": 69,
   "metadata": {},
   "outputs": [
    {
     "data": {
      "text/plain": [
       "2.0"
      ]
     },
     "execution_count": 69,
     "metadata": {},
     "output_type": "execute_result"
    }
   ],
   "source": [
    "np.std([4,8])"
   ]
  },
  {
   "cell_type": "code",
   "execution_count": null,
   "metadata": {},
   "outputs": [],
   "source": []
  }
 ],
 "metadata": {
  "kernelspec": {
   "display_name": "Python 2",
   "language": "python",
   "name": "python2"
  },
  "language_info": {
   "codemirror_mode": {
    "name": "ipython",
    "version": 2
   },
   "file_extension": ".py",
   "mimetype": "text/x-python",
   "name": "python",
   "nbconvert_exporter": "python",
   "pygments_lexer": "ipython2",
   "version": "2.7.6"
  }
 },
 "nbformat": 4,
 "nbformat_minor": 0
}
